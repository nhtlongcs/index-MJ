{
 "cells": [
  {
   "cell_type": "code",
   "execution_count": 4,
   "metadata": {},
   "outputs": [],
   "source": [
    "from pathlib import Path\n",
    "import pandas as pd \n",
    "from tqdm import tqdm\n",
    "import os"
   ]
  },
  {
   "cell_type": "code",
   "execution_count": 5,
   "metadata": {},
   "outputs": [],
   "source": [
    "os.chdir(Path(os.getcwd()).parent)"
   ]
  },
  {
   "cell_type": "code",
   "execution_count": 6,
   "metadata": {},
   "outputs": [],
   "source": [
    "image_patch_path = Path('lsc/image_list_patch.txt')\n",
    "image_contracted_path = Path('lsc/image_list_contracted.txt')\n",
    "\n",
    "fix_dict = {}\n",
    "with image_patch_path.open() as f:\n",
    "    lines = f.readlines()\n",
    "    for line in lines:\n",
    "        assert len(line.split()) == 2, 'image.txt should have 2 columns'\n",
    "        image_filename, image_path = line.split()\n",
    "        image_path = Path(image_path)\n",
    "        assert Path(image_path).exists(), f'{image_path} does not exist'    \n",
    "        if image_filename in fix_dict:\n",
    "            if fix_dict[image_filename] != image_path:\n",
    "                print(f'Warning: {image_filename} has multiple paths')\n",
    "        fix_dict[image_filename] = image_path"
   ]
  },
  {
   "cell_type": "code",
   "execution_count": 7,
   "metadata": {},
   "outputs": [],
   "source": [
    "def create_lsc_image_path(image_filename):\n",
    "    indict = False\n",
    "    image_filename = image_filename.split('\\n')[0]\n",
    "    if image_filename in fix_dict:\n",
    "        p = Path(fix_dict[image_filename])\n",
    "        indict = True\n",
    "    else:\n",
    "        yyyymm = image_filename[:6]\n",
    "        dd = image_filename[6:8]\n",
    "        p = Path(f'lsc/extracted/{yyyymm}/{dd}/{image_filename}.jpg')\n",
    "    \n",
    "    assert Path(p).exists(), f'{p} does not exist, the image_filename is {image_filename}, the filename exists in patch file: {indict}'\n",
    "    return p"
   ]
  },
  {
   "cell_type": "code",
   "execution_count": 8,
   "metadata": {},
   "outputs": [],
   "source": [
    "image_filenames = []\n",
    "image_paths = []\n",
    "years = []\n",
    "months = []\n",
    "days = []"
   ]
  },
  {
   "cell_type": "code",
   "execution_count": 9,
   "metadata": {},
   "outputs": [
    {
     "name": "stderr",
     "output_type": "stream",
     "text": [
      "100%|██████████| 297532/297532 [00:05<00:00, 51532.93it/s]\n"
     ]
    }
   ],
   "source": [
    "assert image_contracted_path.exists(), f'{image_contracted_path} does not exist'\n",
    "with image_contracted_path.open() as f:\n",
    "    lines = f.readlines()\n",
    "    for line in tqdm(lines):\n",
    "        image_filename = line.strip()\n",
    "        try:\n",
    "            image_path = create_lsc_image_path(line) \n",
    "        except AssertionError as e:\n",
    "            with open('lsc/fix_image_path.txt', 'a') as f:\n",
    "                f.write(str(e) + '\\n')\n",
    "\n",
    "        image_filenames.append(image_filename)\n",
    "        image_paths.append(image_path)\n",
    "\n",
    "        day = image_path.parent.name\n",
    "        year_month = image_path.parent.parent.name\n",
    "        year = year_month[:4]\n",
    "        month = year_month[4:6]\n",
    "\n",
    "        years.append(year)\n",
    "        months.append(month)\n",
    "        days.append(day)"
   ]
  },
  {
   "cell_type": "code",
   "execution_count": 10,
   "metadata": {},
   "outputs": [
    {
     "data": {
      "text/html": [
       "<div>\n",
       "<style scoped>\n",
       "    .dataframe tbody tr th:only-of-type {\n",
       "        vertical-align: middle;\n",
       "    }\n",
       "\n",
       "    .dataframe tbody tr th {\n",
       "        vertical-align: top;\n",
       "    }\n",
       "\n",
       "    .dataframe thead th {\n",
       "        text-align: right;\n",
       "    }\n",
       "</style>\n",
       "<table border=\"1\" class=\"dataframe\">\n",
       "  <thead>\n",
       "    <tr style=\"text-align: right;\">\n",
       "      <th></th>\n",
       "      <th>image_filename</th>\n",
       "      <th>image_path</th>\n",
       "      <th>year</th>\n",
       "      <th>month</th>\n",
       "      <th>day</th>\n",
       "    </tr>\n",
       "  </thead>\n",
       "  <tbody>\n",
       "    <tr>\n",
       "      <th>count</th>\n",
       "      <td>297532</td>\n",
       "      <td>297532</td>\n",
       "      <td>297532</td>\n",
       "      <td>297532</td>\n",
       "      <td>297532</td>\n",
       "    </tr>\n",
       "    <tr>\n",
       "      <th>unique</th>\n",
       "      <td>297532</td>\n",
       "      <td>297532</td>\n",
       "      <td>2</td>\n",
       "      <td>12</td>\n",
       "      <td>31</td>\n",
       "    </tr>\n",
       "    <tr>\n",
       "      <th>top</th>\n",
       "      <td>20000101_000113_000</td>\n",
       "      <td>lsc/extracted/202001/16/20000101_000113_000.jpg</td>\n",
       "      <td>2019</td>\n",
       "      <td>03</td>\n",
       "      <td>06</td>\n",
       "    </tr>\n",
       "    <tr>\n",
       "      <th>freq</th>\n",
       "      <td>1</td>\n",
       "      <td>1</td>\n",
       "      <td>214468</td>\n",
       "      <td>34319</td>\n",
       "      <td>11202</td>\n",
       "    </tr>\n",
       "  </tbody>\n",
       "</table>\n",
       "</div>"
      ],
      "text/plain": [
       "             image_filename                                       image_path  \\\n",
       "count                297532                                           297532   \n",
       "unique               297532                                           297532   \n",
       "top     20000101_000113_000  lsc/extracted/202001/16/20000101_000113_000.jpg   \n",
       "freq                      1                                                1   \n",
       "\n",
       "          year   month     day  \n",
       "count   297532  297532  297532  \n",
       "unique       2      12      31  \n",
       "top       2019      03      06  \n",
       "freq    214468   34319   11202  "
      ]
     },
     "execution_count": 10,
     "metadata": {},
     "output_type": "execute_result"
    }
   ],
   "source": [
    "df = pd.DataFrame({'image_filename': image_filenames, 'image_path': image_paths, 'year': years, 'month': months, 'day': days})\n",
    "df.describe()"
   ]
  },
  {
   "cell_type": "code",
   "execution_count": 12,
   "metadata": {},
   "outputs": [
    {
     "data": {
      "text/html": [
       "<div>\n",
       "<style scoped>\n",
       "    .dataframe tbody tr th:only-of-type {\n",
       "        vertical-align: middle;\n",
       "    }\n",
       "\n",
       "    .dataframe tbody tr th {\n",
       "        vertical-align: top;\n",
       "    }\n",
       "\n",
       "    .dataframe thead th {\n",
       "        text-align: right;\n",
       "    }\n",
       "</style>\n",
       "<table border=\"1\" class=\"dataframe\">\n",
       "  <thead>\n",
       "    <tr style=\"text-align: right;\">\n",
       "      <th></th>\n",
       "      <th>image_filename</th>\n",
       "      <th>image_path</th>\n",
       "      <th>year</th>\n",
       "      <th>month</th>\n",
       "      <th>day</th>\n",
       "    </tr>\n",
       "  </thead>\n",
       "  <tbody>\n",
       "    <tr>\n",
       "      <th>0</th>\n",
       "      <td>20000101_000113_000</td>\n",
       "      <td>lsc/extracted/202001/16/20000101_000113_000.jpg</td>\n",
       "      <td>2020</td>\n",
       "      <td>01</td>\n",
       "      <td>16</td>\n",
       "    </tr>\n",
       "    <tr>\n",
       "      <th>1</th>\n",
       "      <td>20000101_000145_000</td>\n",
       "      <td>lsc/extracted/202001/16/20000101_000145_000.jpg</td>\n",
       "      <td>2020</td>\n",
       "      <td>01</td>\n",
       "      <td>16</td>\n",
       "    </tr>\n",
       "    <tr>\n",
       "      <th>2</th>\n",
       "      <td>20000101_001405_000</td>\n",
       "      <td>lsc/extracted/202001/16/20000101_001405_000.jpg</td>\n",
       "      <td>2020</td>\n",
       "      <td>01</td>\n",
       "      <td>16</td>\n",
       "    </tr>\n",
       "    <tr>\n",
       "      <th>3</th>\n",
       "      <td>20000101_002639_000</td>\n",
       "      <td>lsc/extracted/202001/16/20000101_002639_000.jpg</td>\n",
       "      <td>2020</td>\n",
       "      <td>01</td>\n",
       "      <td>16</td>\n",
       "    </tr>\n",
       "    <tr>\n",
       "      <th>4</th>\n",
       "      <td>20000101_011926_000</td>\n",
       "      <td>lsc/extracted/202001/16/20000101_011926_000.jpg</td>\n",
       "      <td>2020</td>\n",
       "      <td>01</td>\n",
       "      <td>16</td>\n",
       "    </tr>\n",
       "  </tbody>\n",
       "</table>\n",
       "</div>"
      ],
      "text/plain": [
       "        image_filename                                       image_path  year  \\\n",
       "0  20000101_000113_000  lsc/extracted/202001/16/20000101_000113_000.jpg  2020   \n",
       "1  20000101_000145_000  lsc/extracted/202001/16/20000101_000145_000.jpg  2020   \n",
       "2  20000101_001405_000  lsc/extracted/202001/16/20000101_001405_000.jpg  2020   \n",
       "3  20000101_002639_000  lsc/extracted/202001/16/20000101_002639_000.jpg  2020   \n",
       "4  20000101_011926_000  lsc/extracted/202001/16/20000101_011926_000.jpg  2020   \n",
       "\n",
       "  month day  \n",
       "0    01  16  \n",
       "1    01  16  \n",
       "2    01  16  \n",
       "3    01  16  \n",
       "4    01  16  "
      ]
     },
     "execution_count": 12,
     "metadata": {},
     "output_type": "execute_result"
    }
   ],
   "source": [
    "df.head()"
   ]
  },
  {
   "cell_type": "code",
   "execution_count": 11,
   "metadata": {},
   "outputs": [],
   "source": [
    "df.to_csv('lsc/fixed_image_list_contracted.csv', index=False)"
   ]
  }
 ],
 "metadata": {
  "kernelspec": {
   "display_name": "animar",
   "language": "python",
   "name": "python3"
  },
  "language_info": {
   "codemirror_mode": {
    "name": "ipython",
    "version": 3
   },
   "file_extension": ".py",
   "mimetype": "text/x-python",
   "name": "python",
   "nbconvert_exporter": "python",
   "pygments_lexer": "ipython3",
   "version": "3.10.10"
  },
  "orig_nbformat": 4
 },
 "nbformat": 4,
 "nbformat_minor": 2
}
